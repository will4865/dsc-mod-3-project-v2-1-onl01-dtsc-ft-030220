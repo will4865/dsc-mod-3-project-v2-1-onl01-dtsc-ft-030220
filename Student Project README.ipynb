{
 "cells": [
  {
   "cell_type": "markdown",
   "metadata": {},
   "source": [
    "# Module 3 Project- Customer Churn with Telco Data Set"
   ]
  },
  {
   "attachments": {
    "image.png": {
     "image/png": "[encoded data removed]"
    }
   },
   "cell_type": "markdown",
   "metadata": {},
   "source": [
    "For this project I will be predicting Customer Churn using the Telco Customer Churn Data Set. This data set is available through Kaggle and also in this repo. \n",
    "\n",
    "https://www.kaggle.com/blastchar/telco-customer-churn\n",
    "\n",
    "Churn is defined as the percentage of customers who's business you lost during a set period of time. It can be calculated by dividing the amount of customers lost by the total number of customers you had at the beginning of this time frame.\n",
    "\n",
    "If you were trying to calculate churn for this data set, the churn percentage can be said to be 26.6% for this time frame. As no dates are available in this data set, we cannot say what time frame this churn rate occured over.\n",
    "\n",
    "![image.png](attachment:image.png)\n",
    "\n",
    "<b>The goal of this project is to identify the most predictive features that lead customers to churn and provide business recommendations for how to reduce the number of customers who churn. <b>"
   ]
  },
  {
   "cell_type": "markdown",
   "metadata": {},
   "source": [
    "I will be using the OSEMN approach in this project, which follows the process outlined below:\n",
    "\n",
    "* Obtain the data\n",
    "* Scrub the data to remove outliers and prepare it for modeling\n",
    "* Explore data with visualizations to look for predictive behaviour\n",
    "* Model data using Machine Learning methods and tune models to maximize predictive power\n",
    "* Interpret findings and present to stakeholders\n",
    "\n"
   ]
  },
  {
   "cell_type": "markdown",
   "metadata": {},
   "source": [
    "# Evaluation Metrics- Recall and F Beta Score"
   ]
  },
  {
   "cell_type": "markdown",
   "metadata": {},
   "source": [
    "Given the many model evaulation metrics available to us, I wanted to make sure that I was tuning my model in an appropriate way for this business case. For this reason, I decided to focus on Recall and the F Beta Score.\n",
    "\n",
    "Recall is an evaluation metric that can be calculated the total number of true positives divided by the number of true positives plus the number of false negatives. Because of the way that this metric is calculated, it rewards tuning models that do not result in False Negatives. For this business case, the model predicting that a customer will not churn and then the customer ends up leaving would be a far more expensive mistake for the business stakeholders than the opposite.\n",
    "\n",
    "I also included the F Beta Score as an evaluation metric for the model. The F Beta Score is related to the F-1 score in that it measures the harmonic mean between precision and recall in the model. However, the F Beta score includes a paramter called beta that allows the score to be weighted towards precision or recall. Since I am trying to target the recall metric, I have tuned the F Beta score to be more sensitve to the recall score. "
   ]
  },
  {
   "cell_type": "markdown",
   "metadata": {},
   "source": [
    "# Findings and Conclusion\n",
    "\n",
    "Across all models the most important predictors for customer churn ended up being Tenure (how long the customer had been at the company), Contract (whether the customer was under a 1 or 2 year contract), and if they are signed up Fiber Optic Internet Service. \n",
    "\n",
    "1. The longer the customer has been with the company the less likely they will be to churn\n",
    "2. If the customer is under a long term (1 or 2 year) contract, they are less likely to churn\n",
    "3. If the customer is signed up for Fiber Optic Internet, they are less likely to churn"
   ]
  },
  {
   "cell_type": "code",
   "execution_count": null,
   "metadata": {},
   "outputs": [],
   "source": []
  }
 ],
 "metadata": {
  "kernelspec": {
   "display_name": "learn-env",
   "language": "python",
   "name": "learn-env"
  },
  "language_info": {
   "codemirror_mode": {
    "name": "ipython",
    "version": 3
   },
   "file_extension": ".py",
   "mimetype": "text/x-python",
   "name": "python",
   "nbconvert_exporter": "python",
   "pygments_lexer": "ipython3",
   "version": "3.6.9"
  },
  "varInspector": {
   "cols": {
    "lenName": 16,
    "lenType": 16,
    "lenVar": 40
   },
   "kernels_config": {
    "python": {
     "delete_cmd_postfix": "",
     "delete_cmd_prefix": "del ",
     "library": "var_list.py",
     "varRefreshCmd": "print(var_dic_list())"
    },
    "r": {
     "delete_cmd_postfix": ") ",
     "delete_cmd_prefix": "rm(",
     "library": "var_list.r",
     "varRefreshCmd": "cat(var_dic_list()) "
    }
   },
   "types_to_exclude": [
    "module",
    "function",
    "builtin_function_or_method",
    "instance",
    "_Feature"
   ],
   "window_display": false
  }
 },
 "nbformat": 4,
 "nbformat_minor": 2
}
